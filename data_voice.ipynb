{
 "cells": [
  {
   "cell_type": "code",
   "execution_count": 36,
   "metadata": {
    "collapsed": true
   },
   "outputs": [],
   "source": [
    "import librosa\n",
    "import IPython.display as ipd\n",
    "from scipy import signal\n",
    "import numpy as np\n",
    "import matplotlib.pyplot as plt\n",
    "import librosa.display\n",
    "from glob import glob\n",
    "from scipy import signal\n",
    "import random\n",
    "import cv2\n",
    "import os"
   ]
  },
  {
   "cell_type": "markdown",
   "metadata": {},
   "source": [
    "## Dataset"
   ]
  },
  {
   "cell_type": "code",
   "execution_count": 67,
   "metadata": {
    "collapsed": false
   },
   "outputs": [],
   "source": [
    "def load_audio(filename=None, sr=16000, second=3, samples=None):\n",
    "    samples, sample_rate = librosa.load(filename, sr=sr)\n",
    "    \n",
    "    if second is not None and len(samples) < sr * second:\n",
    "        samples = np.pad(samples, (0, sr * second - len(samples)), 'constant')\n",
    "    if second is not None and len(samples) > sr * second:\n",
    "        samples = samples[0:sr * second]\n",
    "    return samples\n",
    "\n",
    "\n",
    "def predict_voice(sample):\n",
    "    beat = librosa.beat.beat_track(sample)\n",
    "    v_max = sample.max()\n",
    "    w = beat[0] + 250*v_max\n",
    "    \n",
    "    if w > 270:\n",
    "        label = 'angry'\n",
    "    elif w < 140:\n",
    "        label = 'thinking'\n",
    "    else:\n",
    "        label = 'normal'\n",
    "    return label\n",
    "\n",
    "\n",
    "def play(sample):\n",
    "    return ipd.Audio(sample, 16000, autoplay=True)\n"
   ]
  },
  {
   "cell_type": "code",
   "execution_count": 65,
   "metadata": {
    "collapsed": false
   },
   "outputs": [],
   "source": [
    "files = os.listdir('./voice/')\n",
    "audios = [(load_audio('./voice/' + f, 16000), f[:-5]) for f in files]\n"
   ]
  },
  {
   "cell_type": "code",
   "execution_count": 69,
   "metadata": {
    "collapsed": false
   },
   "outputs": [
    {
     "name": "stderr",
     "output_type": "stream",
     "text": [
      "D:\\anaconda\\lib\\site-packages\\librosa\\util\\utils.py:1377: FutureWarning: Using a non-tuple sequence for multidimensional indexing is deprecated; use `arr[tuple(seq)]` instead of `arr[seq]`. In the future this will be interpreted as an array index, `arr[np.array(seq)]`, which will result either in an error or a different result.\n",
      "  data_agg[idx_agg] = aggregate(data[idx_in], axis=axis)\n",
      "D:\\anaconda\\lib\\site-packages\\scipy\\fftpack\\basic.py:160: FutureWarning: Using a non-tuple sequence for multidimensional indexing is deprecated; use `arr[tuple(seq)]` instead of `arr[seq]`. In the future this will be interpreted as an array index, `arr[np.array(seq)]`, which will result either in an error or a different result.\n",
      "  z[index] = x\n",
      "D:\\anaconda\\lib\\site-packages\\librosa\\core\\audio.py:447: FutureWarning: Using a non-tuple sequence for multidimensional indexing is deprecated; use `arr[tuple(seq)]` instead of `arr[seq]`. In the future this will be interpreted as an array index, `arr[np.array(seq)]`, which will result either in an error or a different result.\n",
      "  autocorr = autocorr[subslice]\n",
      "D:\\anaconda\\lib\\site-packages\\librosa\\util\\utils.py:826: FutureWarning: Using a non-tuple sequence for multidimensional indexing is deprecated; use `arr[tuple(seq)]` instead of `arr[seq]`. In the future this will be interpreted as an array index, `arr[np.array(seq)]`, which will result either in an error or a different result.\n",
      "  return (x > x_pad[inds1]) & (x >= x_pad[inds2])\n",
      "D:\\anaconda\\lib\\site-packages\\scipy\\signal\\signaltools.py:491: FutureWarning: Using a non-tuple sequence for multidimensional indexing is deprecated; use `arr[tuple(seq)]` instead of `arr[seq]`. In the future this will be interpreted as an array index, `arr[np.array(seq)]`, which will result either in an error or a different result.\n",
      "  return x[reverse].conj()\n",
      "D:\\anaconda\\lib\\site-packages\\scipy\\signal\\signaltools.py:251: FutureWarning: Using a non-tuple sequence for multidimensional indexing is deprecated; use `arr[tuple(seq)]` instead of `arr[seq]`. In the future this will be interpreted as an array index, `arr[np.array(seq)]`, which will result either in an error or a different result.\n",
      "  in1zpadded[sc] = in1.copy()\n"
     ]
    },
    {
     "data": {
      "text/plain": [
       "['angry',\n",
       " 'angry',\n",
       " 'angry',\n",
       " 'angry',\n",
       " 'angry',\n",
       " 'normal',\n",
       " 'normal',\n",
       " 'normal',\n",
       " 'normal',\n",
       " 'normal',\n",
       " 'thinking',\n",
       " 'thinking',\n",
       " 'thinking',\n",
       " 'normal',\n",
       " 'thinking']"
      ]
     },
     "execution_count": 69,
     "metadata": {},
     "output_type": "execute_result"
    }
   ],
   "source": [
    "preds = [predict_voice(audios[i][0]) for i in range(len(audios))] "
   ]
  },
  {
   "cell_type": "markdown",
   "metadata": {},
   "source": [
    "## 语谱图"
   ]
  },
  {
   "cell_type": "code",
   "execution_count": null,
   "metadata": {
    "collapsed": false,
    "scrolled": true
   },
   "outputs": [],
   "source": [
    "librosa.feature.melspectrogram(y=y, sr=sr)\n",
    "librosa.display.specshow(librosa.power_to_db(librosa.stft(y),ref=np.max), y_axis='mel', x_axis='time')\n",
    "plt.colorbar(format='%+2.0f dB')\n",
    "plt.title('Mel spectrogram')\n",
    "plt.tight_layout()\n",
    "plt.show()"
   ]
  },
  {
   "cell_type": "code",
   "execution_count": null,
   "metadata": {
    "collapsed": true
   },
   "outputs": [],
   "source": []
  },
  {
   "cell_type": "code",
   "execution_count": null,
   "metadata": {
    "collapsed": true
   },
   "outputs": [],
   "source": []
  },
  {
   "cell_type": "code",
   "execution_count": null,
   "metadata": {
    "collapsed": true
   },
   "outputs": [],
   "source": []
  },
  {
   "cell_type": "markdown",
   "metadata": {},
   "source": [
    "## 录音/保存"
   ]
  },
  {
   "cell_type": "code",
   "execution_count": null,
   "metadata": {
    "collapsed": false
   },
   "outputs": [],
   "source": [
    "import pyaudio\n",
    "import wave\n",
    "CHUNK = 1024\n",
    "FORMAT = pyaudio.paInt16\n",
    "CHANNELS = 2\n",
    "RATE = 44100\n",
    "RECORD_SECONDS = 3  #设置录音的时间长度\n",
    "WAVE_OUTPUT_FILENAME = \"./voice/thinking5.wav\"\n",
    "p = pyaudio.PyAudio()\n",
    "stream = p.open(format=FORMAT,\n",
    "                channels=CHANNELS,\n",
    "                rate=RATE,\n",
    "                input=True,\n",
    "                frames_per_buffer=CHUNK)\n",
    "print(\"* recording\")\n",
    "frames = []\n",
    "for i in range(0, int(RATE / CHUNK * RECORD_SECONDS)):\n",
    "    data = stream.read(CHUNK)\n",
    "    frames.append(data)\n",
    "print(\"* done recording\")\n",
    "\n",
    "stream.stop_stream()\n",
    "stream.close()\n",
    "p.terminate()\n",
    "wf = wave.open(WAVE_OUTPUT_FILENAME, 'wb')\n",
    "wf.setnchannels(CHANNELS)\n",
    "wf.setsampwidth(p.get_sample_size(FORMAT))\n",
    "wf.setframerate(RATE)\n",
    "wf.writeframes(b''.join(frames))\n",
    "wf.close()"
   ]
  },
  {
   "cell_type": "code",
   "execution_count": null,
   "metadata": {
    "collapsed": true
   },
   "outputs": [],
   "source": []
  },
  {
   "cell_type": "markdown",
   "metadata": {},
   "source": [
    "## 画FFT图"
   ]
  },
  {
   "cell_type": "code",
   "execution_count": null,
   "metadata": {
    "collapsed": true
   },
   "outputs": [],
   "source": [
    "from tkinter import *\n",
    "import wave\n",
    "from scipy.fftpack import fft,ifft\n",
    "import matplotlib.pyplot as plt\n",
    "import numpy as np\n",
    " \n",
    "def data_fft(data, time, time_start, time_end):\n",
    "        #短时fft。截取一段时间内的数据先\n",
    "        #time_start是开始时间，time_end是结束时间\n",
    "        t = []\n",
    "        y = []\n",
    "        count = 0\n",
    "        #for i in time:\n",
    "        for i in range(time.size):\n",
    "                if((time[i] >= time_start) & (time[i] <= time_end)):\n",
    "                        count = count + 1\n",
    "                        t = np.append(t, time[i])\n",
    "                        y = np.append(y, data[0][i])    #只提取左声道\n",
    "        #print (count)\n",
    "                        \n",
    "        yy=fft(y)                  #快速傅里叶变换\n",
    "        yreal = yy.real               # 获取实数部分\n",
    "        yimag = yy.imag               # 获取虚数部分\n",
    " \n",
    "                \n",
    "        yf=abs(fft(y))                # 取绝对值\n",
    "        yf1=abs(fft(y))/len(t)           #归一化处理\n",
    "        yf2 = yf1[range(int(len(t)/2))]  #由于对称性，只取一半区间\n",
    " \n",
    "        xf = np.arange(len(y))        # 频率\n",
    "        xf1 = xf\n",
    "        xf2 = xf[range(int(len(t)/2))]  #取一半区间\n",
    " \n",
    "        #plt.figure()\n",
    "        \"\"\"\n",
    "        \n",
    "        plt.subplot(221)\n",
    "        plt.plot(t, y)   \n",
    "        plt.title('Original wave')\n",
    " \n",
    "        plt.subplot(222)\n",
    "        plt.plot(xf,yf,'r')\n",
    "        plt.title('FFT of Mixed wave(two sides frequency range)',fontsize=7,color='#7A378B')  #注意这里的颜色可以查询颜色代码表\n",
    " \n",
    "        plt.subplot(223)\n",
    "        plt.plot(xf1,yf1,'g')\n",
    "        plt.title('FFT of Mixed wave(normalization)',fontsize=9,color='r')\n",
    " \n",
    "        plt.subplot(224)\n",
    "        plt.plot(xf2,yf2,'b')\n",
    "        plt.title('FFT of Mixed wave)',fontsize=10,color='#F08080')\n",
    "        \n",
    "        \"\"\"\n",
    "        plt.plot(t, y)   \n",
    "        plt.title('Original wave')\n",
    " \n",
    " \n",
    "        plt.show()\n",
    "        \n",
    "        \n",
    "def main():\n",
    "\twave_data, time = read_wave_data('./voice/angry1.wav')\n",
    "\t\n",
    "\tdata_fft(wave_data, time, 0, 2)\n",
    "\t\n",
    "\n",
    "main()"
   ]
  },
  {
   "cell_type": "code",
   "execution_count": null,
   "metadata": {
    "collapsed": false
   },
   "outputs": [],
   "source": []
  },
  {
   "cell_type": "code",
   "execution_count": null,
   "metadata": {
    "collapsed": true
   },
   "outputs": [],
   "source": []
  }
 ],
 "metadata": {
  "kernelspec": {
   "display_name": "Python 3",
   "language": "python",
   "name": "python3"
  },
  "language_info": {
   "codemirror_mode": {
    "name": "ipython",
    "version": 3
   },
   "file_extension": ".py",
   "mimetype": "text/x-python",
   "name": "python",
   "nbconvert_exporter": "python",
   "pygments_lexer": "ipython3",
   "version": "3.6.4"
  }
 },
 "nbformat": 4,
 "nbformat_minor": 2
}
